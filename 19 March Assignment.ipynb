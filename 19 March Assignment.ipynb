{
 "cells": [
  {
   "cell_type": "markdown",
   "id": "15084059",
   "metadata": {},
   "source": [
    "## Question-1\n",
    "\n",
    "In Min-Max Scaling, we normalize the values between o & 1. Here we substract the minmum value from each point in the dataset and divide by the difference of maximum and minimum values.\n",
    "\n",
    "It is very much useful in the data preprocessing when we used distance based algorithms. Here is the example of using Min Max in a dataset"
   ]
  },
  {
   "cell_type": "code",
   "execution_count": 3,
   "id": "645d3488",
   "metadata": {},
   "outputs": [
    {
     "data": {
      "text/html": [
       "<div>\n",
       "<style scoped>\n",
       "    .dataframe tbody tr th:only-of-type {\n",
       "        vertical-align: middle;\n",
       "    }\n",
       "\n",
       "    .dataframe tbody tr th {\n",
       "        vertical-align: top;\n",
       "    }\n",
       "\n",
       "    .dataframe thead th {\n",
       "        text-align: right;\n",
       "    }\n",
       "</style>\n",
       "<table border=\"1\" class=\"dataframe\">\n",
       "  <thead>\n",
       "    <tr style=\"text-align: right;\">\n",
       "      <th></th>\n",
       "      <th>pickup</th>\n",
       "      <th>dropoff</th>\n",
       "      <th>passengers</th>\n",
       "      <th>distance</th>\n",
       "      <th>fare</th>\n",
       "      <th>tip</th>\n",
       "      <th>tolls</th>\n",
       "      <th>total</th>\n",
       "      <th>color</th>\n",
       "      <th>payment</th>\n",
       "      <th>pickup_zone</th>\n",
       "      <th>dropoff_zone</th>\n",
       "      <th>pickup_borough</th>\n",
       "      <th>dropoff_borough</th>\n",
       "    </tr>\n",
       "  </thead>\n",
       "  <tbody>\n",
       "    <tr>\n",
       "      <th>0</th>\n",
       "      <td>2019-03-23 20:21:09</td>\n",
       "      <td>2019-03-23 20:27:24</td>\n",
       "      <td>1</td>\n",
       "      <td>1.60</td>\n",
       "      <td>7.0</td>\n",
       "      <td>2.15</td>\n",
       "      <td>0.0</td>\n",
       "      <td>12.95</td>\n",
       "      <td>yellow</td>\n",
       "      <td>credit card</td>\n",
       "      <td>Lenox Hill West</td>\n",
       "      <td>UN/Turtle Bay South</td>\n",
       "      <td>Manhattan</td>\n",
       "      <td>Manhattan</td>\n",
       "    </tr>\n",
       "    <tr>\n",
       "      <th>1</th>\n",
       "      <td>2019-03-04 16:11:55</td>\n",
       "      <td>2019-03-04 16:19:00</td>\n",
       "      <td>1</td>\n",
       "      <td>0.79</td>\n",
       "      <td>5.0</td>\n",
       "      <td>0.00</td>\n",
       "      <td>0.0</td>\n",
       "      <td>9.30</td>\n",
       "      <td>yellow</td>\n",
       "      <td>cash</td>\n",
       "      <td>Upper West Side South</td>\n",
       "      <td>Upper West Side South</td>\n",
       "      <td>Manhattan</td>\n",
       "      <td>Manhattan</td>\n",
       "    </tr>\n",
       "    <tr>\n",
       "      <th>2</th>\n",
       "      <td>2019-03-27 17:53:01</td>\n",
       "      <td>2019-03-27 18:00:25</td>\n",
       "      <td>1</td>\n",
       "      <td>1.37</td>\n",
       "      <td>7.5</td>\n",
       "      <td>2.36</td>\n",
       "      <td>0.0</td>\n",
       "      <td>14.16</td>\n",
       "      <td>yellow</td>\n",
       "      <td>credit card</td>\n",
       "      <td>Alphabet City</td>\n",
       "      <td>West Village</td>\n",
       "      <td>Manhattan</td>\n",
       "      <td>Manhattan</td>\n",
       "    </tr>\n",
       "    <tr>\n",
       "      <th>3</th>\n",
       "      <td>2019-03-10 01:23:59</td>\n",
       "      <td>2019-03-10 01:49:51</td>\n",
       "      <td>1</td>\n",
       "      <td>7.70</td>\n",
       "      <td>27.0</td>\n",
       "      <td>6.15</td>\n",
       "      <td>0.0</td>\n",
       "      <td>36.95</td>\n",
       "      <td>yellow</td>\n",
       "      <td>credit card</td>\n",
       "      <td>Hudson Sq</td>\n",
       "      <td>Yorkville West</td>\n",
       "      <td>Manhattan</td>\n",
       "      <td>Manhattan</td>\n",
       "    </tr>\n",
       "    <tr>\n",
       "      <th>4</th>\n",
       "      <td>2019-03-30 13:27:42</td>\n",
       "      <td>2019-03-30 13:37:14</td>\n",
       "      <td>3</td>\n",
       "      <td>2.16</td>\n",
       "      <td>9.0</td>\n",
       "      <td>1.10</td>\n",
       "      <td>0.0</td>\n",
       "      <td>13.40</td>\n",
       "      <td>yellow</td>\n",
       "      <td>credit card</td>\n",
       "      <td>Midtown East</td>\n",
       "      <td>Yorkville West</td>\n",
       "      <td>Manhattan</td>\n",
       "      <td>Manhattan</td>\n",
       "    </tr>\n",
       "  </tbody>\n",
       "</table>\n",
       "</div>"
      ],
      "text/plain": [
       "                pickup              dropoff  passengers  distance  fare   tip  \\\n",
       "0  2019-03-23 20:21:09  2019-03-23 20:27:24           1      1.60   7.0  2.15   \n",
       "1  2019-03-04 16:11:55  2019-03-04 16:19:00           1      0.79   5.0  0.00   \n",
       "2  2019-03-27 17:53:01  2019-03-27 18:00:25           1      1.37   7.5  2.36   \n",
       "3  2019-03-10 01:23:59  2019-03-10 01:49:51           1      7.70  27.0  6.15   \n",
       "4  2019-03-30 13:27:42  2019-03-30 13:37:14           3      2.16   9.0  1.10   \n",
       "\n",
       "   tolls  total   color      payment            pickup_zone  \\\n",
       "0    0.0  12.95  yellow  credit card        Lenox Hill West   \n",
       "1    0.0   9.30  yellow         cash  Upper West Side South   \n",
       "2    0.0  14.16  yellow  credit card          Alphabet City   \n",
       "3    0.0  36.95  yellow  credit card              Hudson Sq   \n",
       "4    0.0  13.40  yellow  credit card           Midtown East   \n",
       "\n",
       "            dropoff_zone pickup_borough dropoff_borough  \n",
       "0    UN/Turtle Bay South      Manhattan       Manhattan  \n",
       "1  Upper West Side South      Manhattan       Manhattan  \n",
       "2           West Village      Manhattan       Manhattan  \n",
       "3         Yorkville West      Manhattan       Manhattan  \n",
       "4         Yorkville West      Manhattan       Manhattan  "
      ]
     },
     "execution_count": 3,
     "metadata": {},
     "output_type": "execute_result"
    }
   ],
   "source": [
    "from sklearn.preprocessing import MinMaxScaler\n",
    "import seaborn as sns\n",
    "df2 = sns.load_dataset('taxis')\n",
    "df2.head()"
   ]
  },
  {
   "cell_type": "code",
   "execution_count": 4,
   "id": "e38ebf1c",
   "metadata": {},
   "outputs": [],
   "source": [
    "min_max = MinMaxScaler()"
   ]
  },
  {
   "cell_type": "code",
   "execution_count": 5,
   "id": "31507522",
   "metadata": {},
   "outputs": [
    {
     "data": {
      "text/plain": [
       "array([[0.04359673, 0.04026846, 0.06475904],\n",
       "       [0.02152589, 0.02684564, 0.        ],\n",
       "       [0.0373297 , 0.04362416, 0.07108434],\n",
       "       ...,\n",
       "       [0.11280654, 0.10067114, 0.        ],\n",
       "       [0.03051771, 0.03355705, 0.        ],\n",
       "       [0.10490463, 0.09395973, 0.10120482]])"
      ]
     },
     "execution_count": 5,
     "metadata": {},
     "output_type": "execute_result"
    }
   ],
   "source": [
    "min_max.fit_transform(df2[['distance','fare','tip']])"
   ]
  },
  {
   "cell_type": "markdown",
   "id": "90fdc870",
   "metadata": {},
   "source": [
    "## Question-2\n",
    "\n",
    "Unit vector is a type of feature scaling technique. Here we take the l2 norm of the vector and then divide by it. Bascially the euclidean distance and divide the vector in each direction. In Unit vector, there is no such defined range.\n",
    "\n",
    "In Min-Max scaling, the range is from 0-1. "
   ]
  },
  {
   "cell_type": "code",
   "execution_count": 6,
   "id": "bae2efbc",
   "metadata": {},
   "outputs": [
    {
     "data": {
      "text/plain": [
       "array([[0.21346145, 0.93389384, 0.28683882],\n",
       "       [0.15606402, 0.98774694, 0.        ],\n",
       "       [0.1716575 , 0.93973084, 0.29570197],\n",
       "       ...,\n",
       "       [0.25050016, 0.96811656, 0.        ],\n",
       "       [0.18349711, 0.98302025, 0.        ],\n",
       "       [0.2429556 , 0.94658025, 0.21203398]])"
      ]
     },
     "execution_count": 6,
     "metadata": {},
     "output_type": "execute_result"
    }
   ],
   "source": [
    "from sklearn.preprocessing import normalize\n",
    "normalize(df2[['distance','fare','tip']])"
   ]
  },
  {
   "cell_type": "markdown",
   "id": "e39906e9",
   "metadata": {},
   "source": [
    "## Question-3\n",
    "\n",
    "Principal Component Analysis is a dimensional reduction technique in which we try to combine the variables and generate a PC1 axis which has a maximum variance. In this technique, we have a loss of information and the interpretation of results is also not feasible.\n",
    "\n",
    "For eg. If we have Height and Weight. We can combine them using PCA and have a PC1 axis which has the maximum variance, In this way we reduced the 2D to 1D.\n",
    "\n",
    "In practical, we have many dimensions so at that time PCA is useful"
   ]
  },
  {
   "cell_type": "markdown",
   "id": "caf923ee",
   "metadata": {},
   "source": [
    "## Question-4\n",
    "\n",
    "In feature extraction, we have feature scaling, feature selection and with this we have PCA which is a dimensional reduction technique.we try to combine the variables and generate a PC1 axis which has a maximum variance. In this technique, we have a loss of information and the interpretation of results is also not feasible.\n",
    "\n",
    "For eg. If we have Height and Weight. We can combine them using PCA and have a PC1 axis which has the maximum variance, In this way we reduced the 2D to 1D."
   ]
  },
  {
   "cell_type": "markdown",
   "id": "99d96464",
   "metadata": {},
   "source": [
    "## Question-5\n",
    "\n",
    "Here the Price has some currency units, rating is in some float value and time in minutes. So, all the features have different scales. In order to bring them down to a comparable level, we will apply min-max scaler, which will convert all of them between 0 & 1.\n",
    "\n",
    "We can do like this- \n",
    "min_max.fit_transform(data [['price','rating','time']])"
   ]
  },
  {
   "cell_type": "markdown",
   "id": "14cc56a8",
   "metadata": {},
   "source": [
    "## Question-6\n",
    "\n",
    "Here, there are many features and it is not feasible to include all the features in our model and increase the complexity. So, we will apply the PCA in order to reduce the dimension. We will apply PCA to all the features of stock prices and then generate a PC1 axis which has the maximum variance."
   ]
  },
  {
   "cell_type": "markdown",
   "id": "c6df0c05",
   "metadata": {},
   "source": [
    "## Question-7\n",
    "\n",
    "lst = [1,5,10,15,20]"
   ]
  },
  {
   "cell_type": "code",
   "execution_count": 11,
   "id": "19b2fb2f",
   "metadata": {},
   "outputs": [],
   "source": [
    "lst = [1,5,10,15,20]\n",
    "min_max_range = MinMaxScaler(feature_range=(-1, 1))"
   ]
  },
  {
   "cell_type": "code",
   "execution_count": 15,
   "id": "156fe838",
   "metadata": {},
   "outputs": [],
   "source": [
    "scaled_list = []\n",
    "for i in list([[lst]]):\n",
    "    value = min_max_range.fit_transform(i)\n",
    "    scaled_list.append(value)\n"
   ]
  },
  {
   "cell_type": "code",
   "execution_count": 18,
   "id": "7db0c7e5",
   "metadata": {},
   "outputs": [
    {
     "name": "stdout",
     "output_type": "stream",
     "text": [
      "[[-1. -1. -1. -1. -1.]]\n"
     ]
    }
   ],
   "source": [
    "for i in scaled_list:\n",
    "    print(i)\n"
   ]
  },
  {
   "cell_type": "markdown",
   "id": "6111b373",
   "metadata": {},
   "source": [
    "## Question-8\n",
    "\n",
    "For height,gender and weight, we will apply PCA and combine them to a single feature along the PC1 which will capture the maximum variance. Height, age, weight can be linked to Body mass index (BMI) so we can combine these features\n",
    "\n",
    "For Age and Blood pressure, we will apply PCA and combine them to a single feature. As with the Age, Blood pressure problem is common.\n",
    "\n",
    "We have to focus on PC1 which will capture the maximum variance.\n",
    "\n",
    "Therefore, we can pick two principal components in this case"
   ]
  },
  {
   "cell_type": "code",
   "execution_count": null,
   "id": "de4dba40",
   "metadata": {},
   "outputs": [],
   "source": []
  }
 ],
 "metadata": {
  "kernelspec": {
   "display_name": "Python 3 (ipykernel)",
   "language": "python",
   "name": "python3"
  },
  "language_info": {
   "codemirror_mode": {
    "name": "ipython",
    "version": 3
   },
   "file_extension": ".py",
   "mimetype": "text/x-python",
   "name": "python",
   "nbconvert_exporter": "python",
   "pygments_lexer": "ipython3",
   "version": "3.9.13"
  }
 },
 "nbformat": 4,
 "nbformat_minor": 5
}
