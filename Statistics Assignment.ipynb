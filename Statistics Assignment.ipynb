{
 "cells": [
  {
   "cell_type": "markdown",
   "id": "c4eb0c52",
   "metadata": {},
   "source": [
    "## Question-1\n",
    "\n",
    "Mean - Sensitive to outliers \n",
    "\n",
    "Median - Insensitive to outliers\n",
    "\n",
    "Mode - can be used for categorical/ repetitive data"
   ]
  },
  {
   "cell_type": "markdown",
   "id": "2992f658",
   "metadata": {},
   "source": [
    "## Question-2\n",
    "\n",
    "Mean - Sensitive to outliers - here we add all the data points and then divide them by the number of data points\n",
    "\n",
    "Median - Insensitive to outliers - here we take the middle value depending upon the even (average of middle two) or odd (direct middle value)\n",
    "\n",
    "Mode - can be used for categorical/ repetitive data ( maximum repetitive value)\n"
   ]
  },
  {
   "cell_type": "markdown",
   "id": "1ca1ea8f",
   "metadata": {},
   "source": [
    "## Question-3"
   ]
  },
  {
   "cell_type": "code",
   "execution_count": 18,
   "id": "d1ac4c2c",
   "metadata": {},
   "outputs": [],
   "source": [
    "import pandas as pd\n",
    "df = pd.DataFrame([178,177,176,177,178.2,178,175,179,180,175,178.9,176.2,177,172.5,178,176.5])"
   ]
  },
  {
   "cell_type": "code",
   "execution_count": 19,
   "id": "9b6a97ca",
   "metadata": {},
   "outputs": [
    {
     "data": {
      "text/plain": [
       "0    177.01875\n",
       "dtype: float64"
      ]
     },
     "execution_count": 19,
     "metadata": {},
     "output_type": "execute_result"
    }
   ],
   "source": [
    "df.mean()"
   ]
  },
  {
   "cell_type": "code",
   "execution_count": 20,
   "id": "9c2187ae",
   "metadata": {},
   "outputs": [
    {
     "data": {
      "text/plain": [
       "0    177.0\n",
       "dtype: float64"
      ]
     },
     "execution_count": 20,
     "metadata": {},
     "output_type": "execute_result"
    }
   ],
   "source": [
    "df.median()"
   ]
  },
  {
   "cell_type": "code",
   "execution_count": 21,
   "id": "f2203ed3",
   "metadata": {},
   "outputs": [
    {
     "name": "stderr",
     "output_type": "stream",
     "text": [
      "C:\\Users\\ASUS\\AppData\\Local\\Temp\\ipykernel_92904\\4057379663.py:2: FutureWarning: Unlike other reduction functions (e.g. `skew`, `kurtosis`), the default behavior of `mode` typically preserves the axis it acts along. In SciPy 1.11.0, this behavior will change: the default value of `keepdims` will become False, the `axis` over which the statistic is taken will be eliminated, and the value None will no longer be accepted. Set `keepdims` to True or False to avoid this warning.\n",
      "  stats.mode(df)\n"
     ]
    },
    {
     "data": {
      "text/plain": [
       "ModeResult(mode=array([[177.]]), count=array([[3]]))"
      ]
     },
     "execution_count": 21,
     "metadata": {},
     "output_type": "execute_result"
    }
   ],
   "source": [
    "from scipy import stats\n",
    "stats.mode(df)"
   ]
  },
  {
   "cell_type": "markdown",
   "id": "49dcf2d5",
   "metadata": {},
   "source": [
    "## Question-4\n",
    "\n"
   ]
  },
  {
   "cell_type": "code",
   "execution_count": 22,
   "id": "58259902",
   "metadata": {},
   "outputs": [],
   "source": [
    "import pandas as pd\n",
    "df = pd.DataFrame([178,177,176,177,178.2,178,175,179,180,175,178.9,176.2,177,172.5,178,176.5])"
   ]
  },
  {
   "cell_type": "code",
   "execution_count": 23,
   "id": "84ec714a",
   "metadata": {},
   "outputs": [
    {
     "data": {
      "text/plain": [
       "0    1.847239\n",
       "dtype: float64"
      ]
     },
     "execution_count": 23,
     "metadata": {},
     "output_type": "execute_result"
    }
   ],
   "source": [
    "df.std()"
   ]
  },
  {
   "cell_type": "markdown",
   "id": "b11a789d",
   "metadata": {},
   "source": [
    "## Question-5"
   ]
  },
  {
   "cell_type": "markdown",
   "id": "bfb5eb56",
   "metadata": {},
   "source": [
    "Range - we calculate it by checking the maximum value and minimum value and then substract them\n",
    "\n",
    "Variance- it is basically the spread of the data and is very senitive to the outliers.\n",
    "\n",
    "Standard deviation- here we see within how much deviation, the percentage of data is there. let say in within one standard deviation, we have 68% of the data"
   ]
  },
  {
   "cell_type": "markdown",
   "id": "8b3ebef5",
   "metadata": {},
   "source": [
    "## Question-6"
   ]
  },
  {
   "cell_type": "markdown",
   "id": "394c91d5",
   "metadata": {},
   "source": [
    "In Venn daiagram, we uses circles to show the relationships among things or finite groups of things. Here we have a universal set and inside we have other sets."
   ]
  },
  {
   "cell_type": "markdown",
   "id": "642a62c1",
   "metadata": {},
   "source": [
    "## Question-7"
   ]
  },
  {
   "cell_type": "code",
   "execution_count": 24,
   "id": "ae553be4",
   "metadata": {},
   "outputs": [
    {
     "data": {
      "text/plain": [
       "{2, 6}"
      ]
     },
     "execution_count": 24,
     "metadata": {},
     "output_type": "execute_result"
    }
   ],
   "source": [
    "A = {2,3,4,5,6,7}\n",
    "B = {0,2,6,8,10}\n",
    "A.intersection(B)"
   ]
  },
  {
   "cell_type": "code",
   "execution_count": 25,
   "id": "429a95ed",
   "metadata": {},
   "outputs": [
    {
     "data": {
      "text/plain": [
       "{0, 2, 3, 4, 5, 6, 7, 8, 10}"
      ]
     },
     "execution_count": 25,
     "metadata": {},
     "output_type": "execute_result"
    }
   ],
   "source": [
    "A.union(B)"
   ]
  },
  {
   "cell_type": "markdown",
   "id": "4893b8a2",
   "metadata": {},
   "source": [
    "## Question-8"
   ]
  },
  {
   "cell_type": "markdown",
   "id": "399d2354",
   "metadata": {},
   "source": [
    "Skewness tells us about the symmetry of the data about the mean. If the value of skewness is zero, then it is caleed a normal distribution. If skewness >0, then it is called a Positive skewness and if it is <0, then it is called a negative skewness."
   ]
  },
  {
   "cell_type": "markdown",
   "id": "7b793630",
   "metadata": {},
   "source": [
    "## Question-9\n",
    "\n",
    "Median > Mean - for a right skewed distribution"
   ]
  },
  {
   "cell_type": "markdown",
   "id": "dabdca58",
   "metadata": {},
   "source": [
    "## Question-10\n",
    "\n",
    "covariance tells us about the nature of relationship, whether it is a positive or a negative relationship. It can take any value.\n",
    "\n",
    "Correlation tells us about the strength (magnitutde) of the relationship, how strong is the relationship. It is of two types Pearson and spearman correlation. Its values lies between -1 and +1.\n",
    "\n",
    "With the help of them, we can analyze the relationship and if two variables are highly correlated, then we can drop any of them depending on the business case."
   ]
  },
  {
   "cell_type": "markdown",
   "id": "41635a10",
   "metadata": {},
   "source": [
    "## Question-11"
   ]
  },
  {
   "cell_type": "markdown",
   "id": "0189d464",
   "metadata": {},
   "source": [
    "mean- we just sum up all the values and then divide them by the number of values present in the dataset."
   ]
  },
  {
   "cell_type": "code",
   "execution_count": 26,
   "id": "25779838",
   "metadata": {},
   "outputs": [
    {
     "data": {
      "text/plain": [
       "4.5"
      ]
     },
     "execution_count": 26,
     "metadata": {},
     "output_type": "execute_result"
    }
   ],
   "source": [
    "import numpy as np\n",
    "A = [2,3,4,5,6,7] # here total number of elements are 6 and the sum is 27, so the mean is 27/6 = 4.5\n",
    "np.mean(A)"
   ]
  },
  {
   "cell_type": "markdown",
   "id": "57c02d58",
   "metadata": {},
   "source": [
    "## Question-12\n",
    "\n",
    "For a normal distribution, we have the mean = 0 and variance as sigma square.\n",
    "We have one standard deviation (68% of data), two standard deviation(95% of data), three standard deviation(97.7% of data)\n",
    "\n",
    "Mean = Median = Mode"
   ]
  },
  {
   "cell_type": "markdown",
   "id": "3f96cb81",
   "metadata": {},
   "source": [
    "## Question-13\n",
    "\n",
    "covariance tells us about the nature of relationship, whether it is a positive or a negative relationship. It can take any value.\n",
    "\n",
    "Correlation tells us about the strength (magnitutde) of the relationship, how strong is the relationship. It is of two types Pearson and spearman correlation. Its values lies between -1 and +1."
   ]
  },
  {
   "cell_type": "markdown",
   "id": "f0259ac0",
   "metadata": {},
   "source": [
    "## Question-14\n",
    "\n",
    "Mean is sensitive to outliers because we add of the values to calculate the mean.\n",
    "\n",
    "Median is not sensitive to outliers but we take the middle value.\n",
    "\n",
    "Mode is used for repetitive values in the dataset.\n",
    "\n",
    "variance is very sensitive to the outliers as the spread increase significantly with the presence of outliers in the dataset\n"
   ]
  },
  {
   "cell_type": "code",
   "execution_count": 27,
   "id": "7908b3ba",
   "metadata": {},
   "outputs": [
    {
     "data": {
      "text/plain": [
       "103.85714285714286"
      ]
     },
     "execution_count": 27,
     "metadata": {},
     "output_type": "execute_result"
    }
   ],
   "source": [
    "A = [2,3,4,5,6,7,700]\n",
    "np.mean(A) # high value of mean due to outlier presence"
   ]
  },
  {
   "cell_type": "code",
   "execution_count": 28,
   "id": "e7b921c0",
   "metadata": {},
   "outputs": [
    {
     "data": {
      "text/plain": [
       "5.0"
      ]
     },
     "execution_count": 28,
     "metadata": {},
     "output_type": "execute_result"
    }
   ],
   "source": [
    "np.median(A) # very less effect due to the presence of outlier"
   ]
  },
  {
   "cell_type": "code",
   "execution_count": 29,
   "id": "f3bd8c2f",
   "metadata": {},
   "outputs": [
    {
     "data": {
      "text/plain": [
       "59233.55102040816"
      ]
     },
     "execution_count": 29,
     "metadata": {},
     "output_type": "execute_result"
    }
   ],
   "source": [
    "np.var(A) # very large impact due to presence of outlier"
   ]
  },
  {
   "cell_type": "code",
   "execution_count": 30,
   "id": "2ea01010",
   "metadata": {},
   "outputs": [
    {
     "data": {
      "text/plain": [
       "243.37943836817473"
      ]
     },
     "execution_count": 30,
     "metadata": {},
     "output_type": "execute_result"
    }
   ],
   "source": [
    "np.std(A) # high value of standard deviation"
   ]
  }
 ],
 "metadata": {
  "kernelspec": {
   "display_name": "Python 3 (ipykernel)",
   "language": "python",
   "name": "python3"
  },
  "language_info": {
   "codemirror_mode": {
    "name": "ipython",
    "version": 3
   },
   "file_extension": ".py",
   "mimetype": "text/x-python",
   "name": "python",
   "nbconvert_exporter": "python",
   "pygments_lexer": "ipython3",
   "version": "3.9.13"
  }
 },
 "nbformat": 4,
 "nbformat_minor": 5
}
