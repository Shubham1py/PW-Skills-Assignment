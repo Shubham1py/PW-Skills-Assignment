{
 "cells": [
  {
   "cell_type": "markdown",
   "id": "acc05b0e",
   "metadata": {},
   "source": [
    "## Question-1\n",
    "\n",
    "**Artificial Intelligence**\n",
    "In AI, there are smart application that can perform the tasks at their own without anu human intervention.\n",
    "for eg. Self Driving Cars, Robots\n",
    "\n",
    "**Machine Learning**\n",
    "In ML, we have statstools too learn, analyze, visualize and develop the predictive models from the data.\n",
    "for eg. Recommendation system of Amazon/Netflix\n",
    "\n",
    "**Deep Learning**\n",
    "In DL, we try to mimic the human brain with the help of Multi Layerd Neural Networks.\n",
    "for eg. ChatGPT, Object Detection, Image recognition\n"
   ]
  },
  {
   "cell_type": "markdown",
   "id": "5cb0c380",
   "metadata": {},
   "source": [
    "## Question-2\n",
    "\n",
    "In Supervised ML, we have the labels (output) in the dataset. For eg, House Price dataset, we have the price as labels(output). It includes Regression, Class\n",
    "ification algorithms"
   ]
  },
  {
   "cell_type": "markdown",
   "id": "727a9475",
   "metadata": {},
   "source": [
    "## Question-3\n",
    "\n",
    "In Unsupervised ML, we do NOT have the labels or output in the data. We just have the independent variables in the dataset and we need to perform clustering and form the groups. for eg. Customer segmentation"
   ]
  },
  {
   "cell_type": "markdown",
   "id": "ae8eb060",
   "metadata": {},
   "source": [
    "## Question-4\n",
    "\n",
    "DL is the subset of ML.\n",
    "ML is the subset of AI.\n",
    "AI is the superset.\n",
    "\n",
    "In DS, we use ML,DL,AI."
   ]
  },
  {
   "cell_type": "markdown",
   "id": "fa988de5",
   "metadata": {},
   "source": [
    "## Question-5\n",
    "\n",
    "In Supervised ML, we have the labels (output) in the dataset. For eg, House Price dataset, we have the price as labels(output). It includes Regression, Classification algorithms\n",
    "\n",
    "In Unsupervised ML, we do NOT have the labels or output in the data. We just have the independent variables in the dataset and we need to perform clustering and form the groups. for eg. Customer segmentation\n",
    "\n",
    "In Semi-supervised ML, we use the combination of both supervised and unsupervised ML. Initially the model is trained on a supervised dataset and later made in the form of unsupervised.\n",
    "for eg. Netflix has so many models. It first apply clustering algorithm based on the region and then pass it to prediction model"
   ]
  },
  {
   "cell_type": "markdown",
   "id": "627296b4",
   "metadata": {},
   "source": [
    "## Question-6\n",
    "\n",
    "We divide the dataset into Train, Validation, Test dataset.\n",
    "\n",
    "Train data is used to train the model.\n",
    "Validation data is used to tune the hyperparameter.\n",
    "Test data is the unseen data for the model and is used to test the model."
   ]
  },
  {
   "cell_type": "markdown",
   "id": "edaa5693",
   "metadata": {},
   "source": [
    "## Question-7\n",
    "\n",
    "With the help of unsupervised ML, we can form the clusters based on the similarity and can easily predict if there is any anomaly. for eg, in preventing the fraud. The similar transaction will be grouped into one cluster and the abnormal transaction will be grouped to some other cluster."
   ]
  },
  {
   "cell_type": "markdown",
   "id": "b9be070c",
   "metadata": {},
   "source": [
    "## Question-8\n",
    "\n",
    "Supervised ML- Classification ( K Nearrest Neighbor, Decision Trees, SVM, Logistic Regression)\n",
    "\n",
    "               Regression (Linear Regression, Multiple Linear Regression)\n",
    "               \n",
    "Unsupervised ML- Clustering ( K Means Clustering)"
   ]
  }
 ],
 "metadata": {
  "kernelspec": {
   "display_name": "Python 3 (ipykernel)",
   "language": "python",
   "name": "python3"
  },
  "language_info": {
   "codemirror_mode": {
    "name": "ipython",
    "version": 3
   },
   "file_extension": ".py",
   "mimetype": "text/x-python",
   "name": "python",
   "nbconvert_exporter": "python",
   "pygments_lexer": "ipython3",
   "version": "3.9.13"
  }
 },
 "nbformat": 4,
 "nbformat_minor": 5
}
