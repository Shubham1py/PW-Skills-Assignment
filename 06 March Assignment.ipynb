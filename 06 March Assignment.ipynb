{
 "cells": [
  {
   "cell_type": "markdown",
   "id": "9e1fe115",
   "metadata": {},
   "source": [
    "## Question-1\n",
    "\n",
    "Statistics is the branch of science in which we collect, organize and collect the data"
   ]
  },
  {
   "cell_type": "markdown",
   "id": "b2d1c53e",
   "metadata": {},
   "source": [
    "## Question-2\n",
    "\n",
    "There are 2 types of statistics:\n",
    "\n",
    "Descriptive Statistics: It is used to organize and summarize the data. For eg. we apply different techniques and tools to collec the data like histogram, PMF etc. It can be used to find the measure of central tendency like mean, median, mode or to find the measure of dispersion like variance or standard deviation.\n",
    "\n",
    "Inferential Statistics: It consists of using the data to form conclusions.Here we use Hypothesis testing, Z-test, t-test"
   ]
  },
  {
   "cell_type": "markdown",
   "id": "1d44eadc",
   "metadata": {},
   "source": [
    "## Question-3\n",
    "\n",
    "Quantitative Data- Discrete (no. of childrens, bank accounts) and Continuous( height, length)\n",
    "\n",
    "Qualitative Data - Nominal (Gender- No rank/order) , Ordinal data (has rank/order- Good,bad,satisfactory)"
   ]
  },
  {
   "cell_type": "markdown",
   "id": "827fc00c",
   "metadata": {},
   "source": [
    "## Question-4\n",
    "\n",
    "i) Ordinal\n",
    "\n",
    "ii) Nominal\n",
    "\n",
    "ii) Continuous\n",
    "\n",
    "iv) Discrete"
   ]
  },
  {
   "cell_type": "markdown",
   "id": "3793e3e5",
   "metadata": {},
   "source": [
    "## Question-5\n",
    "\n",
    "Nominal Scale data : Qualitative/ categorical, order does not matter. eg. gender\n",
    "\n",
    "Ordinal Scale data : Ranking & order matters, differences can not be measured. eg. Degree (PhD, MS, BE, BSc)\n",
    "\n",
    "Interval Scale data : Rank and order matters, differences can be measured but not ratio. eg. temperature, no absolute zero\n",
    "\n",
    "Ratio Scale data : Rank and order matters, differences and ratio can be measures, has absolute zero, eg, marks"
   ]
  },
  {
   "cell_type": "markdown",
   "id": "3f77fde9",
   "metadata": {},
   "source": [
    "## Question-6\n",
    "\n",
    "Level of measurement is important to determine the type of statistical analysis that can be conducted and the type of conclusions that can be drawn.Basically we can determine the descriptive statistics for our data.\n",
    "\n",
    "For eg. of we have male, female data, then, we can use frequency tables, bar charts to know the number of females and males. Here we can NOT use mean as it does not make any sense."
   ]
  },
  {
   "cell_type": "markdown",
   "id": "078d851f",
   "metadata": {},
   "source": [
    "## Question-7\n",
    "\n",
    "Nominal (Gender- No rank/order) , Ordinal data (has rank/order- Good,bad,satisfactory)"
   ]
  },
  {
   "cell_type": "markdown",
   "id": "ea8da22c",
   "metadata": {},
   "source": [
    "## Question-8\n",
    "\n",
    "for range, we can use Box-whisker plot"
   ]
  },
  {
   "cell_type": "markdown",
   "id": "6f2fde8d",
   "metadata": {},
   "source": [
    "## Question-9\n",
    "\n",
    "Descriptive Statistics: It is used to organize and summarize the data. For eg. we apply different techniques and tools to collec the data like histogram, PMF etc. It can be used to find the measure of central tendency like mean, median, mode or to find the measure of dispersion like variance or standard deviation.\n",
    "\n",
    "Inferential Statistics: It consists of using the data to form conclusions.Here we use Hypothesis testing, Z-test, t-test"
   ]
  },
  {
   "cell_type": "markdown",
   "id": "b5bae911",
   "metadata": {},
   "source": [
    "## Question-10\n",
    "\n",
    "Measure of central Tendency- mean, median, mode\n",
    "\n",
    "Mean can be used when there is continuous data, but it is sentitive to outliers.\n",
    "Median can be used even when the outliers are present\n",
    "Mode can be used when there are many repetitive values, when there is categorical data\n",
    "\n",
    "Meaures of Dispersion- variance ( to check spread of data) and Standard deviation ( to check how much percentage of data is there in a particular standard deviation)"
   ]
  }
 ],
 "metadata": {
  "kernelspec": {
   "display_name": "Python 3 (ipykernel)",
   "language": "python",
   "name": "python3"
  },
  "language_info": {
   "codemirror_mode": {
    "name": "ipython",
    "version": 3
   },
   "file_extension": ".py",
   "mimetype": "text/x-python",
   "name": "python",
   "nbconvert_exporter": "python",
   "pygments_lexer": "ipython3",
   "version": "3.9.13"
  }
 },
 "nbformat": 4,
 "nbformat_minor": 5
}
