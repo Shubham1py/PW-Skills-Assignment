{
 "cells": [
  {
   "cell_type": "markdown",
   "id": "99d28bd9",
   "metadata": {},
   "source": [
    "## Question-1\n",
    "\n",
    "Probability density function (PDF) is used for a continuous random variable. For example if X is a continuous random variable showing the heights in a state. Then, it will follow a bell curve. On Y-axis, we will have the probability density and on X-axis, we will have the heights. Also, Probability density is the gradient descent of the Cummulative density function and it is a continuous probability distribution and represents the relative likelihood of observing a value at a given point in the distribution. The PDF does not represent the probability of observing a specific value, but rather the likelihood of observing a value within an interval around that point."
   ]
  },
  {
   "cell_type": "markdown",
   "id": "768d99a5",
   "metadata": {},
   "source": [
    "## Question-2\n",
    "\n",
    "There are several types of distribution:\n",
    "\n",
    "a) Normal distribution - for continuous random variable- PDF\n",
    "\n",
    "b) Bernoulli distribution- for discrete random variable-PMF\n",
    "\n",
    "c) Binomial distribution- for discrete random variable-PMF\n",
    "\n",
    "d) Uniform distribution- for discrete random variable-PMF\n",
    "\n",
    "e) Poission distribution- for discrete random variable-PMF\n",
    "\n",
    "f) Log normal distribution- for continuous random variable-PDF\n",
    "\n",
    "g) Power law distribution- for continuous random variable- PDF"
   ]
  },
  {
   "cell_type": "markdown",
   "id": "5d992701",
   "metadata": {},
   "source": [
    "## Question-3"
   ]
  },
  {
   "cell_type": "code",
   "execution_count": 1,
   "id": "fcc7e04c",
   "metadata": {},
   "outputs": [
    {
     "name": "stdout",
     "output_type": "stream",
     "text": [
      "0.22079672201361888\n"
     ]
    }
   ],
   "source": [
    "import numpy as np\n",
    "\n",
    "mean = 3 #mean\n",
    "x = 2 #given point\n",
    "sd = 1.4 #standard deviation\n",
    "\n",
    "PDF = 1/np.sqrt(2*np.pi) * 1/sd * np.exp((-((x-mean)/sd)**2)/2) \n",
    "print(PDF)"
   ]
  },
  {
   "cell_type": "markdown",
   "id": "f8bec723",
   "metadata": {},
   "source": [
    "## Question-4\n",
    "\n",
    "In a Binomial distribution, the output is binary but we repeat the process to 'n' times. for example, tossing a coin 10 times, or winning a game in 10 trials.\n",
    "\n",
    "mean = np\n",
    "\n",
    "variance = npq"
   ]
  },
  {
   "cell_type": "markdown",
   "id": "a2462f33",
   "metadata": {},
   "source": [
    "## Question-5\n",
    "\n"
   ]
  },
  {
   "cell_type": "code",
   "execution_count": 11,
   "id": "708ae18a",
   "metadata": {},
   "outputs": [
    {
     "data": {
      "image/png": "[encoded data removed]",
      "text/plain": [
       "<Figure size 640x480 with 1 Axes>"
      ]
     },
     "metadata": {},
     "output_type": "display_data"
    }
   ],
   "source": [
    "import numpy as np\n",
    "import matplotlib.pyplot as plt\n",
    "\n",
    "n = 1000 # sample size\n",
    "p = 0.4 # probability of success\n",
    "\n",
    "\n",
    "sample = np.random.binomial(n, p, size=1000)\n",
    "\n",
    "plt.hist(sample, color='green')\n",
    "plt.xlabel('Number of Successes')\n",
    "plt.ylabel('Probability Density')\n",
    "plt.title('Histogram of Binomial Distribution')\n",
    "plt.show()"
   ]
  },
  {
   "cell_type": "markdown",
   "id": "7f8b5c0e",
   "metadata": {},
   "source": [
    "## Question-6"
   ]
  },
  {
   "cell_type": "code",
   "execution_count": 21,
   "id": "50806d34",
   "metadata": {},
   "outputs": [
    {
     "name": "stdout",
     "output_type": "stream",
     "text": [
      "0.42319008112684364\n"
     ]
    }
   ],
   "source": [
    "from scipy.stats import poisson\n",
    "\n",
    "cdf = poisson.cdf(2,3)\n",
    "print(cdf)"
   ]
  },
  {
   "cell_type": "markdown",
   "id": "0a64d9e3",
   "metadata": {},
   "source": [
    "## Question-7\n",
    "\n",
    "In Binomial distribution, the process is repeated to 'n' times but in Poissions distribution, we have the number of events occuring in a fixed time interval. The Mean and variance are differnt of Binomial distribution but they are same for the possions distribution"
   ]
  },
  {
   "cell_type": "markdown",
   "id": "7a2d82f1",
   "metadata": {},
   "source": [
    "## Question-8"
   ]
  },
  {
   "cell_type": "code",
   "execution_count": 35,
   "id": "67f6c036",
   "metadata": {},
   "outputs": [
    {
     "name": "stdout",
     "output_type": "stream",
     "text": [
      "mean =  4.98\n",
      "var =  5.2896\n"
     ]
    }
   ],
   "source": [
    "sample = np.random.poisson(lam=5, size=1000)\n",
    "\n",
    "mean = np.mean(sample)\n",
    "print('mean = ',mean)\n",
    "var = np.var(sample)\n",
    "print('var = ',var)"
   ]
  },
  {
   "cell_type": "markdown",
   "id": "0c550098",
   "metadata": {},
   "source": [
    "## Question-9\n",
    "\n",
    "For Poission distribution, Mean = Variance = lambda\n",
    "\n",
    "For Binomial distribution, Mean = np, Variance = npq"
   ]
  },
  {
   "cell_type": "markdown",
   "id": "a12c0501",
   "metadata": {},
   "source": [
    "## Question-10\n",
    "\n",
    "In a normal distribution, the least frequent data appears at the tails of the distribution, furthest away from the mean. Specifically, data values that are more than a few standard deviations away from the mean"
   ]
  }
 ],
 "metadata": {
  "kernelspec": {
   "display_name": "Python 3 (ipykernel)",
   "language": "python",
   "name": "python3"
  },
  "language_info": {
   "codemirror_mode": {
    "name": "ipython",
    "version": 3
   },
   "file_extension": ".py",
   "mimetype": "text/x-python",
   "name": "python",
   "nbconvert_exporter": "python",
   "pygments_lexer": "ipython3",
   "version": "3.9.13"
  }
 },
 "nbformat": 4,
 "nbformat_minor": 5
}
